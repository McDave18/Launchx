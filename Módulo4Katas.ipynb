{
  "cells": [
    {
      "cell_type": "markdown",
      "metadata": {},
      "source": [
        "# Ejercicio 1: Transformar cadenas\n"
      ]
    },
    {
      "cell_type": "markdown",
      "metadata": {},
      "source": [
        "El texto con el que trabajarás es el siguiente: "
      ]
    },
    {
      "cell_type": "code",
      "execution_count": 277,
      "metadata": {},
      "outputs": [],
      "source": [
        "text = \"\"\"Interesting facts about the Moon. The Moon is Earth's only satellite. There are several interesting facts about the Moon and how it affects life here on Earth. \n",
        "On average, the Moon moves 4cm away from the Earth every year. This yearly drift is not significant enough to cause immediate effects on Earth. The highest daylight temperature of the Moon is 127 C.\"\"\""
      ]
    },
    {
      "cell_type": "markdown",
      "metadata": {},
      "source": [
        "Primero, divide el texto en cada oración para trabajar con su contenido:"
      ]
    },
    {
      "cell_type": "code",
      "execution_count": 278,
      "metadata": {},
      "outputs": [
        {
          "name": "stdout",
          "output_type": "stream",
          "text": [
            "['Interesting facts about the Moon', \"The Moon is Earth's only satellite\", 'There are several interesting facts about the Moon and how it affects life here on Earth', '\\nOn average, the Moon moves 4cm away from the Earth every year', 'This yearly drift is not significant enough to cause immediate effects on Earth', 'The highest daylight temperature of the Moon is 127 C.']\n"
          ]
        }
      ],
      "source": [
        "# Añade el código necesario\n",
        "texto = text.split('. ')\n",
        "print(texto)"
      ]
    },
    {
      "cell_type": "markdown",
      "metadata": {},
      "source": [
        "Ahora, define algunas palabras clave para búsqueda que te ayudarán a determinar si una oración contiene un hecho."
      ]
    },
    {
      "cell_type": "code",
      "execution_count": 279,
      "metadata": {},
      "outputs": [
        {
          "name": "stdout",
          "output_type": "stream",
          "text": [
            "['average', 'temperature', 'distance']\n"
          ]
        }
      ],
      "source": [
        "# Define las palabras pista: average, temperature y distance suenan bien\n",
        "\n",
        "pista = ['average','temperature','distance']\n",
        "\n",
        "print(pista)"
      ]
    },
    {
      "cell_type": "markdown",
      "metadata": {},
      "source": [
        "Cre un bucle para imprimir solo datos sobre la Luna que estén relacionados con las palabras clave definidas anteriormente:"
      ]
    },
    {
      "cell_type": "code",
      "execution_count": 280,
      "metadata": {},
      "outputs": [
        {
          "name": "stdout",
          "output_type": "stream",
          "text": [
            "\n",
            "On average, the Moon moves 4cm away from the Earth every year\n",
            "The highest daylight temperature of the Moon is 127 C.\n"
          ]
        }
      ],
      "source": [
        "# Ciclo for para recorrer la cadena\n",
        "for search in texto:\n",
        "    for pistas in pista:\n",
        "        if pistas in search:\n",
        "            print(search)\n",
        "            break"
      ]
    },
    {
      "cell_type": "markdown",
      "metadata": {},
      "source": [
        "Finalmente, actualiza el bucle(ciclo) para cambiar _C_ a _Celsius_:"
      ]
    },
    {
      "cell_type": "code",
      "execution_count": 281,
      "metadata": {},
      "outputs": [
        {
          "name": "stdout",
          "output_type": "stream",
          "text": [
            "\n",
            "On average, the Moon moves 4cm away from the Earth every year\n",
            "The highest daylight temperature of the Moon is 127 Celsius.\n"
          ]
        }
      ],
      "source": [
        "# Ciclo para cambiar C a Celsius\n",
        "for search in texto:\n",
        "    for pistas in pista:\n",
        "        if pistas in search:\n",
        "            print(search.replace('C', 'Celsius'))\n",
        "            break\n"
      ]
    },
    {
      "cell_type": "markdown",
      "metadata": {},
      "source": [
        "# Ejercicio 2: Formateando Cadenas\n",
        "\n",
        "Saber cómo dar formato a las cadenas es esencial cuando se presenta información de un programa. Hay algunas maneras diferentes de lograr esto en Python. En este ejercicio, se utilizan variables que contienen datos clave sobre la gravedad en varias lunas y luego se utilizan para dar formato e imprimir la información.\n",
        "\n",
        "El formato tiene que acomodar información sobre otras lunas, por lo que debe ser genérico.\n",
        "\n",
        "En lugar de reemplazar las variables en una cadena larga como parte de un párrafo, utiliza la información para presentarla en un formato tabular. El resultado debería verse así:\n",
        "\n",
        "```\n",
        "Gravity Facts about Ganymede\n",
        "-------------------------------------------------------------------------------\n",
        "Planet Name: Mars\n",
        "Gravity on Ganymede: 1.4300000000000002 m/s2\n",
        "```"
      ]
    },
    {
      "cell_type": "code",
      "execution_count": 282,
      "metadata": {},
      "outputs": [],
      "source": [
        "# Datos con los que vas a trabajar\n",
        "name = \"Moon\"\n",
        "gravity = 0.00162 # in kms\n",
        "planet = \"Earth\""
      ]
    },
    {
      "cell_type": "markdown",
      "metadata": {},
      "source": [
        "Primero, crea un título para el texto. Debido a que este texto trata sobre la gravedad en la Tierra y la Luna, úsalo para crear un título significativo. Utiliza las variables en lugar de escribir."
      ]
    },
    {
      "cell_type": "code",
      "execution_count": 283,
      "metadata": {},
      "outputs": [],
      "source": [
        "# Creamos el título\n",
        "title ='Curiosities about our universe'"
      ]
    },
    {
      "cell_type": "markdown",
      "metadata": {},
      "source": [
        "Ahora crea una plantilla de cadena multilínea para contener el resto de la información. En lugar de usar kilómetros, debes convertir la distancia a metros multiplicando por 1,000."
      ]
    },
    {
      "cell_type": "code",
      "execution_count": 284,
      "metadata": {},
      "outputs": [
        {
          "name": "stdout",
          "output_type": "stream",
          "text": [
            "The Moon\n",
            "have a gravity of 1.6199999999999999 m/s2\n",
            "and belongs to Earth\n",
            "\n"
          ]
        }
      ],
      "source": [
        "# Creamos la plantilla\n",
        "plantilla = f\"\"\"The {name}\n",
        "have a gravity of {gravity*1000} m/s2\n",
        "and belongs to {planet}\n",
        "\"\"\"\n",
        "print(plantilla)"
      ]
    },
    {
      "cell_type": "code",
      "execution_count": 285,
      "metadata": {},
      "outputs": [
        {
          "name": "stdout",
          "output_type": "stream",
          "text": [
            "Curiosities About Our Universe\n",
            "------------------------------------\n",
            "The Moon\n",
            "have a gravity of 1.6199999999999999 m/s2\n",
            "and belongs to Earth\n",
            "\n",
            "\n",
            "\n"
          ]
        }
      ],
      "source": [
        "# Unión de ambas cadenas\n",
        "\n",
        "template_conca = f\"\"\"{title.title()}\n",
        "------------------------------------\n",
        "{plantilla}\n",
        "\n",
        "\"\"\"\n",
        "\n",
        "print(template_conca)"
      ]
    },
    {
      "cell_type": "code",
      "execution_count": 286,
      "metadata": {},
      "outputs": [
        {
          "name": "stdout",
          "output_type": "stream",
          "text": [
            "Curiosities About Our Universe\n",
            "------------------------------------\n",
            "The Moon\n",
            "have a gravity of 1.6199999999999999 m/s2\n",
            "and belongs to Earth\n",
            "\n",
            "\n",
            "\n"
          ]
        }
      ],
      "source": [
        "# Comprueba la plantilla\n",
        "# print(nombre_plantilla)\n",
        "\n",
        "planet = 'Marte '\n",
        "gravity  = 0.00143\n",
        "name = 'Ganímedes'\n",
        "\n",
        "print(template_conca)"
      ]
    }
  ],
  "metadata": {
    "interpreter": {
      "hash": "502cd6c3b6c9e666d195e1caff9d64ea12bf644e547a4c8fae84812082c54b6f"
    },
    "kernel_info": {
      "name": "conda-env-py37_default-py"
    },
    "kernelspec": {
      "display_name": "py37_default",
      "language": "python",
      "name": "python3"
    },
    "language_info": {
      "codemirror_mode": {
        "name": "ipython",
        "version": 3
      },
      "file_extension": ".py",
      "mimetype": "text/x-python",
      "name": "python",
      "nbconvert_exporter": "python",
      "pygments_lexer": "ipython3",
      "version": "3.10.2"
    },
    "nteract": {
      "version": "nteract-front-end@1.0.0"
    },
    "orig_nbformat": 4
  },
  "nbformat": 4,
  "nbformat_minor": 2
}
