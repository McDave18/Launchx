{
 "cells": [
  {
   "cell_type": "markdown",
   "metadata": {},
   "source": [
    "<div style=\"color: black; text-align: center; background-color: grey; padding-top: 15px; padding-bottom: 15px;\">\n",
    "    <b><p style=\"font-size: 30px\">David Huerta Bustamante </p> <br>\n",
    "    Kata 1 <br>\n",
    "    Launch X</b>\n",
    "</div>"
   ]
  },
  {
   "cell_type": "markdown",
   "metadata": {},
   "source": [
    "<center> IMPRIMIR FECHA ACTUAL IMPORTANDO DATE </center>"
   ]
  },
  {
   "cell_type": "code",
   "execution_count": 11,
   "metadata": {},
   "outputs": [
    {
     "name": "stdout",
     "output_type": "stream",
     "text": [
      "Today's date is: 2022-02-06\n"
     ]
    }
   ],
   "source": [
    "from datetime import date\n",
    "from datetime import datetime\n",
    "\n",
    "today = date.today()\n",
    "\n",
    "print(f\"Today's date is: {today}\")"
   ]
  },
  {
   "cell_type": "markdown",
   "metadata": {},
   "source": [
    "<center>#Construir un convertidor de unidades</center>"
   ]
  },
  {
   "cell_type": "code",
   "execution_count": 14,
   "metadata": {},
   "outputs": [
    {
     "name": "stdout",
     "output_type": "stream",
     "text": [
      "11 parsec, is 35.877159999999996 lightyears\n"
     ]
    }
   ],
   "source": [
    "# 1 parsec es 3.26156 años luz\n",
    "parsec = 11\n",
    "\n",
    "lightyears = float(parsec * 3.26156)\n",
    "\n",
    "print(f\"{parsec} parsec, is {lightyears} lightyears\")"
   ]
  }
 ],
 "metadata": {
  "interpreter": {
   "hash": "c1ee161768f0e730059bc4d8975abe7161dfa6d2dd4544d69ba8058603ae9bf3"
  },
  "kernelspec": {
   "display_name": "Python 3.10.2 64-bit",
   "language": "python",
   "name": "python3"
  },
  "language_info": {
   "codemirror_mode": {
    "name": "ipython",
    "version": 3
   },
   "file_extension": ".py",
   "mimetype": "text/x-python",
   "name": "python",
   "nbconvert_exporter": "python",
   "pygments_lexer": "ipython3",
   "version": "3.10.2"
  },
  "orig_nbformat": 4
 },
 "nbformat": 4,
 "nbformat_minor": 2
}
