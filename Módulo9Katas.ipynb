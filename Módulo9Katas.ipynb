{
  "cells": [
    {
      "cell_type": "markdown",
      "metadata": {},
      "source": [
        "# Ejercicio: Uso de funciones en Python"
      ]
    },
    {
      "cell_type": "code",
      "execution_count": 78,
      "metadata": {},
      "outputs": [],
      "source": [
        "# Función para leer 3 tanques de combustible y muestre el promedio\n",
        "def combustible_average(a,b,c):\n",
        "    average = (a+b+c)/3\n",
        "    return average"
      ]
    },
    {
      "cell_type": "markdown",
      "metadata": {},
      "source": [
        "Ahora que hemos definido la función de informes, vamos a comprobarlo. Para esta misión, los tanques no están llenos:"
      ]
    },
    {
      "cell_type": "code",
      "execution_count": 79,
      "metadata": {},
      "outputs": [
        {
          "name": "stdout",
          "output_type": "stream",
          "text": [
            "3.0\n"
          ]
        }
      ],
      "source": [
        "\n",
        "# Llamamos a la función que genera el reporte print(funcion(tanque1, tanque2, tanque3))\n",
        "print(combustible_average(2,3,4))"
      ]
    },
    {
      "cell_type": "markdown",
      "metadata": {},
      "source": [
        "En lugar de simplemente crear el informe, la función también está calculando el promedio. Mejora la legibilidad extrayendo el cálculo promedio de la función en una nueva función para que el promedio se pueda hacer de forma independiente:"
      ]
    },
    {
      "cell_type": "code",
      "execution_count": 80,
      "metadata": {},
      "outputs": [],
      "source": [
        "# Función promedio \n",
        "def comb_average(suma):\n",
        "    average = suma/3\n",
        "    return average\n",
        "    \n"
      ]
    },
    {
      "cell_type": "markdown",
      "metadata": {},
      "source": [
        "Ahora actualiza la función de informes para llamando a la nueva función del promedio:\n"
      ]
    },
    {
      "cell_type": "code",
      "execution_count": 81,
      "metadata": {},
      "outputs": [
        {
          "name": "stdout",
          "output_type": "stream",
          "text": [
            "4.0\n"
          ]
        }
      ],
      "source": [
        "# Actualiza la función\n",
        "def informes(a,b,c):\n",
        "    suma = a+b+c\n",
        "    return comb_average(suma)\n",
        "\n",
        "print(informes(2,3,7))\n",
        "    "
      ]
    },
    {
      "cell_type": "markdown",
      "metadata": {},
      "source": [
        "## Ejercicio 2: Trabajo con argumentos de palabra clave"
      ]
    },
    {
      "cell_type": "code",
      "execution_count": 82,
      "metadata": {},
      "outputs": [
        {
          "name": "stdout",
          "output_type": "stream",
          "text": [
            "\n",
            "    Mision con destino a Luna\n",
            "    Tiempo total de vuelo: 68 min\n",
            "    Total de carga: 160000 galones\n",
            "    \n"
          ]
        }
      ],
      "source": [
        "# Función con un informe preciso de la misión. Considera hora de prelanzamiento, tiempo de vuelo, destino, tanque externo y tanque interno\n",
        "\n",
        "def reporte(prelanzamiento, vuelo_tiempo, destino, tanque_ext, tanque_int):\n",
        "    return f\"\"\"\n",
        "    Mision con destino a {destino}\n",
        "    Tiempo total de vuelo: {prelanzamiento + vuelo_tiempo} min\n",
        "    Total de carga: {tanque_ext + tanque_int} galones\n",
        "    \"\"\"\n",
        "\n",
        "print(reporte(20, 48, \"Luna\", 70000, 90000))"
      ]
    },
    {
      "cell_type": "code",
      "execution_count": 83,
      "metadata": {},
      "outputs": [
        {
          "name": "stdout",
          "output_type": "stream",
          "text": [
            "\n",
            "    Mision con destino a Marte\n",
            "    Tiempo total de viaje: 120 min\n",
            "    Combustible total: 1070500\n",
            "    \n"
          ]
        }
      ],
      "source": [
        "# Escribe tu nueva función de reporte considerando lo anterior\n",
        "\n",
        "def reporte(destino, *minutos, **reservas):\n",
        "    return f\"\"\"\n",
        "    Mision con destino a {destino}\n",
        "    Tiempo total de viaje: {sum(minutos)} min\n",
        "    Combustible total: {sum(reservas.values())}\n",
        "    \"\"\"\n",
        "\n",
        "print(reporte(\"Marte\", 15, 25, 80, main=90000, external=980500))"
      ]
    }
  ],
  "metadata": {
    "interpreter": {
      "hash": "205095b8b86ea82a021a8fc2ffba2b3bc9f8d0be25999901963b225939f75778"
    },
    "kernelspec": {
      "display_name": "Python 3.8.10 64-bit ('tmp': conda)",
      "name": "python3"
    },
    "language_info": {
      "codemirror_mode": {
        "name": "ipython",
        "version": 3
      },
      "file_extension": ".py",
      "mimetype": "text/x-python",
      "name": "python",
      "nbconvert_exporter": "python",
      "pygments_lexer": "ipython3",
      "version": "3.10.2"
    },
    "nteract": {
      "version": "nteract-front-end@1.0.0"
    },
    "orig_nbformat": 4
  },
  "nbformat": 4,
  "nbformat_minor": 2
}
